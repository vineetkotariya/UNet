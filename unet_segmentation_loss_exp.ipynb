{
  "nbformat": 4,
  "nbformat_minor": 0,
  "metadata": {
    "colab": {
      "name": "unet_segmentation.ipynb",
      "provenance": [],
      "collapsed_sections": []
    },
    "kernelspec": {
      "name": "python3",
      "display_name": "Python 3"
    }
  },
  "cells": [
    {
      "cell_type": "code",
      "metadata": {
        "id": "Re0NcmNAiJjA",
        "outputId": "2266e327-623b-404e-b0d0-c138cdf70ee9",
        "colab": {
          "base_uri": "https://localhost:8080/"
        }
      },
      "source": [
        "!pip install pydicom\n",
        "import pydicom as dicom"
      ],
      "execution_count": 1,
      "outputs": [
        {
          "output_type": "stream",
          "text": [
            "Collecting pydicom\n",
            "\u001b[?25l  Downloading https://files.pythonhosted.org/packages/d3/56/342e1f8ce5afe63bf65c23d0b2c1cd5a05600caad1c211c39725d3a4cc56/pydicom-2.0.0-py3-none-any.whl (35.4MB)\n",
            "\u001b[K     |████████████████████████████████| 35.5MB 25.1MB/s \n",
            "\u001b[?25hInstalling collected packages: pydicom\n",
            "Successfully installed pydicom-2.0.0\n"
          ],
          "name": "stdout"
        }
      ]
    },
    {
      "cell_type": "code",
      "metadata": {
        "id": "gvVJV7gyiOGo"
      },
      "source": [
        "import numpy as np\n",
        "import tensorflow.compat.v1 as tf\n",
        "import cv2\n",
        "import glob\n",
        "import matplotlib.pyplot as plt\n",
        "import scipy"
      ],
      "execution_count": 2,
      "outputs": []
    },
    {
      "cell_type": "code",
      "metadata": {
        "id": "otbutLLhjqMq",
        "outputId": "c4e517a9-940d-4be0-9791-e364a4f7a076",
        "colab": {
          "base_uri": "https://localhost:8080/"
        }
      },
      "source": [
        "from google.colab import drive\n",
        "drive.mount('/content/drive')"
      ],
      "execution_count": 3,
      "outputs": [
        {
          "output_type": "stream",
          "text": [
            "Mounted at /content/drive\n"
          ],
          "name": "stdout"
        }
      ]
    },
    {
      "cell_type": "code",
      "metadata": {
        "id": "qV91L-eomFYT"
      },
      "source": [
        "#load train data\n",
        "tf.disable_v2_behavior()\n",
        "seed = 0\n",
        "eps = 1e-16\n",
        "rng = np.random.RandomState(seed)\n",
        "tf.set_random_seed(seed)\n",
        "np.seterr(all='raise')\n",
        "\n",
        "data_path = '/content/drive/My Drive/AML_assn1/ProcessedData/'\n",
        "Xs_sup = []\n",
        "ys_sup = []\n",
        "\n",
        "Xs_val = []\n",
        "ys_val = []\n",
        "\n",
        "Xs_unsup = []\n",
        "img_files = sorted(glob.glob(data_path + 'input/*.dcm'))\n",
        "gti_files = sorted(glob.glob(data_path + 'gt_icontour/*.png'))\n",
        "gto_files = sorted(glob.glob(data_path + 'gt_ocontour/*.png'))\n",
        "\n",
        "unsup_files = sorted(glob.glob(data_path + 'no_gt_input/*.dcm'))\n",
        "rand_nums = np.random.randint(0, 4, size=len(img_files))\n",
        "cnt = 0\n",
        "for dcm_file in img_files:\n",
        "  ds = dicom.dcmread(dcm_file)\n",
        "  img_data = np.array(ds.pixel_array)\n",
        "  img_data = np.float32(img_data)/np.max(img_data)\n",
        "  img_data = np.expand_dims(img_data, axis=-1)\n",
        "  if img_data.shape[0]<img_data.shape[1]:\n",
        "    img_data = np.transpose(img_data, axes=(1, 0, 2))\n",
        "  if rand_nums[cnt]>0:\n",
        "    Xs_sup.append(img_data)\n",
        "  else:\n",
        "    Xs_val.append(img_data)\n",
        "  cnt = cnt + 1\n",
        "\n",
        "for i in range(len(gti_files)):\n",
        "  gti_file = gti_files[i]\n",
        "  gto_file = gto_files[i]\n",
        "  \n",
        "  im_icontour = cv2.imread(gti_file, cv2.IMREAD_GRAYSCALE)\n",
        "  im_ocontour = cv2.imread(gto_file, cv2.IMREAD_GRAYSCALE)\n",
        "\n",
        "  im_icontour = np.float32(im_icontour)/np.max(im_icontour)\n",
        "  im_ocontour = np.float32(im_ocontour)/np.max(im_ocontour)\n",
        "  \n",
        "  im_icontour = np.expand_dims(im_icontour, axis=-1)\n",
        "  im_ocontour = np.expand_dims(im_ocontour, axis=-1)\n",
        "\n",
        "  im_contour = np.concatenate((im_icontour, im_ocontour), axis=2)\n",
        "  if im_contour.shape[0]<im_contour.shape[1]:\n",
        "    im_contour = np.transpose(im_contour, axes=(1, 0, 2))\n",
        "  if rand_nums[i]>0:\n",
        "    ys_sup.append(im_contour)\n",
        "  else:\n",
        "    ys_val.append(im_contour)\n"
      ],
      "execution_count": 15,
      "outputs": []
    },
    {
      "cell_type": "code",
      "metadata": {
        "id": "KtZSrhMM0zVD"
      },
      "source": [
        "#load test data\n",
        "data_path = '/content/drive/My Drive/AML_assn1/ProcessedTest1Data/'\n",
        "Xs_test = []\n",
        "ys_test = []\n",
        "\n",
        "test_img_files = sorted(glob.glob(data_path + 'input/*.dcm'))\n",
        "test_gti_files = sorted(glob.glob(data_path + 'gt_icontour/*.png'))\n",
        "test_gto_files = sorted(glob.glob(data_path + 'gt_ocontour/*.png'))\n",
        "\n",
        "for dcm_file in test_img_files:\n",
        "  ds = dicom.dcmread(dcm_file)\n",
        "  img_data = np.array(ds.pixel_array)\n",
        "  img_data = np.float32(img_data)/np.max(img_data)\n",
        "  img_data = np.expand_dims(img_data, axis=-1)\n",
        "  if img_data.shape[0]<img_data.shape[1]:\n",
        "    img_data = np.transpose(img_data, axes=(1, 0, 2))\n",
        "  Xs_test.append(img_data)\n",
        "\n",
        "for i in range(len(test_gti_files)):\n",
        "  gti_file = test_gti_files[i]\n",
        "  gto_file = test_gto_files[i]\n",
        "  \n",
        "  im_icontour = cv2.imread(gti_file, cv2.IMREAD_GRAYSCALE)\n",
        "  im_ocontour = cv2.imread(gto_file, cv2.IMREAD_GRAYSCALE)\n",
        "\n",
        "  im_icontour = np.float32(im_icontour)/np.max(im_icontour)\n",
        "  im_ocontour = np.float32(im_ocontour)/np.max(im_ocontour)\n",
        "  \n",
        "  im_icontour = np.expand_dims(im_icontour, axis=-1)\n",
        "  im_ocontour = np.expand_dims(im_ocontour, axis=-1)\n",
        "\n",
        "  im_contour = np.concatenate((im_icontour, im_ocontour), axis=2)\n",
        "  if im_contour.shape[0]<im_contour.shape[1]:\n",
        "    im_contour = np.transpose(im_contour, axes=(1, 0, 2))\n",
        "  ys_test.append(im_contour)"
      ],
      "execution_count": 5,
      "outputs": []
    },
    {
      "cell_type": "code",
      "metadata": {
        "id": "YfylDtAgFdXU"
      },
      "source": [
        "#augment data with lr and ud flips (use np.fliplr() and np.flipud())\n",
        "#for i in range(len(Xs_sup)):\n",
        "#  in_im = Xs_sup[i]\n",
        "#  gt_im = ys_sup[i]\n",
        "#  in_flip1 = np.fliplr(in_im)\n",
        "#  gt_flip1 = np.fliplr(gt_im)\n",
        "#\n",
        "#  in_flip2 = np.flipud(in_im)\n",
        "#  gt_flip2 = np.flipud(gt_im)\n",
        "#\n",
        "#  in_flip3 = np.flipud(in_flip1)\n",
        "#  gt_flip3 = np.flipud(gt_flip1)\n",
        "#\n",
        "#  Xs_sup.append(in_flip1)\n",
        "#  Xs_sup.append(in_flip2)\n",
        "#  Xs_sup.append(in_flip3)\n",
        "#\n",
        "#  ys_sup.append(gt_flip1)\n",
        "#  ys_sup.append(gt_flip2)\n",
        "#  ys_sup.append(gt_flip3)\n",
        "\n",
        "#not using"
      ],
      "execution_count": null,
      "outputs": []
    },
    {
      "cell_type": "code",
      "metadata": {
        "id": "9Bgl-mI8cT7N"
      },
      "source": [
        "#augment data with rotation, oversample small ground truth data\n",
        "times_to_augment = 4\n",
        "for t_aug in range(times_to_augment):\n",
        "  for i in range(len(Xs_sup)):\n",
        "    in_im = Xs_sup[i]\n",
        "    gt_im = ys_sup[i]\n",
        "    gt_area = 100*np.mean(gt_im)\n",
        "    toss = np.random.randint(0, 10)\n",
        "    if gt_area<=4 and toss<6:\n",
        "      rotval = np.random.randint(-30, 31)\n",
        "      in_im_rot = scipy.ndimage.rotate(in_im, rotval, reshape=False, mode='reflect')\n",
        "      gt_im_rot = scipy.ndimage.rotate(gt_im, rotval, reshape=False, mode='reflect')\n",
        "      Xs_sup.append(in_im_rot)\n",
        "      ys_sup.append(gt_im_rot)\n",
        "    #if gt_area>2 and gt_area<=4 and toss<4:\n",
        "    #  rotval = np.random.randint(-15, 16)\n",
        "    #  in_im_rot = scipy.ndimage.rotate(in_im, rotval, reshape=False, mode='reflect')\n",
        "    #  gt_im_rot = scipy.ndimage.rotate(gt_im, rotval, reshape=False, mode='reflect')\n",
        "    #  Xs_sup.append(in_im_rot)\n",
        "    #  ys_sup.append(gt_im_rot)\n",
        "    if gt_area>4 and toss <3:\n",
        "      rotval = np.random.randint(-30, 31)\n",
        "      in_im_rot = scipy.ndimage.rotate(in_im, rotval, reshape=False, mode='reflect')\n",
        "      gt_im_rot = scipy.ndimage.rotate(gt_im, rotval, reshape=False, mode='reflect')\n",
        "      Xs_sup.append(in_im_rot)\n",
        "      ys_sup.append(gt_im_rot)"
      ],
      "execution_count": 16,
      "outputs": []
    },
    {
      "cell_type": "code",
      "metadata": {
        "id": "Px9SSFHYwXZU",
        "outputId": "b5f22d93-5aa7-4813-a98a-3918738773c1",
        "colab": {
          "base_uri": "https://localhost:8080/"
        }
      },
      "source": [
        "print(len(ys_sup))\n",
        "print(len(Xs_sup))\n",
        "\n",
        "print(len(Xs_val))\n",
        "\n",
        "print(Xs_sup[0].shape)\n",
        "print(ys_sup[0].shape)"
      ],
      "execution_count": 17,
      "outputs": [
        {
          "output_type": "stream",
          "text": [
            "730\n",
            "730\n",
            "62\n",
            "(256, 216, 1)\n",
            "(256, 216, 2)\n"
          ],
          "name": "stdout"
        }
      ]
    },
    {
      "cell_type": "code",
      "metadata": {
        "id": "EEs39phi9bEf"
      },
      "source": [
        "#define model\n",
        "X_in = tf.placeholder('float', [None, Xs_sup[0].shape[0], Xs_sup[0].shape[1], Xs_sup[0].shape[2]])\n",
        "y_gt = tf.placeholder('float', [None, ys_sup[0].shape[0], ys_sup[0].shape[1], ys_sup[0].shape[2]])\n",
        "\n",
        "conv1 = tf.layers.conv2d(X_in, 16, 5, padding='same', activation='relu', kernel_initializer='he_normal')\n",
        "pool1 = tf.nn.max_pool(conv1, 2, 2, 'SAME', name='pool1')\n",
        "conv2 = tf.layers.conv2d(pool1, 32, 5, padding='same', activation='relu', kernel_initializer='he_normal')\n",
        "pool2 = tf.nn.max_pool(conv2, 2, 2, 'SAME', name='pool2')\n",
        "conv3 = tf.layers.conv2d(pool2, 64, 5, padding='same', activation='relu', kernel_initializer='he_normal')\n",
        "pool3 = tf.nn.max_pool(conv3, 2, 2, 'SAME', name='pool3')\n",
        "\n",
        "convmid = tf.layers.conv2d(pool3, 128, 5, padding='same', activation='relu', kernel_initializer='he_normal')\n",
        "\n",
        "upsamp1 = tf.image.resize_nearest_neighbor(convmid, [conv3.shape[1], conv3.shape[2]], True, name='upsamp1')\n",
        "concat1 = tf.concat([upsamp1, conv3], axis=3, name='concat1')\n",
        "conv4 = tf.layers.conv2d(concat1, 32, 3, padding='same', activation='relu', kernel_initializer='he_normal')\n",
        "\n",
        "upsamp2 = tf.image.resize_nearest_neighbor(conv4, [conv2.shape[1], conv2.shape[2]], True, name='upsamp2')\n",
        "concat2 = tf.concat([upsamp2, conv2], axis=3, name='concat2')\n",
        "conv5 = tf.layers.conv2d(concat2, 16, 3, padding='same', activation='relu', kernel_initializer='he_normal')\n",
        "\n",
        "upsamp3 = tf.image.resize_nearest_neighbor(conv5, [conv1.shape[1], conv1.shape[2]], True, name='upsamp3')\n",
        "concat3 = tf.concat([upsamp3, conv1], axis=3, name='concat3')\n",
        "out = tf.layers.conv2d(concat3, 2, 3, padding='same', activation='sigmoid', kernel_initializer='he_normal')\n"
      ],
      "execution_count": 22,
      "outputs": []
    },
    {
      "cell_type": "code",
      "metadata": {
        "id": "a1O8lEpmu4pw"
      },
      "source": [
        "#model with regularization\n",
        "'''\n",
        "lambda_l2 = 0.04\n",
        "\n",
        "X_in = tf.placeholder('float', [1, Xs_sup[0].shape[0], Xs_sup[0].shape[1], Xs_sup[0].shape[2]])\n",
        "y_gt = tf.placeholder('float', [1, ys_sup[0].shape[0], ys_sup[0].shape[1], ys_sup[0].shape[2]])\n",
        "\n",
        "conv1 = tf.layers.conv2d(X_in, 16, 5, padding='same', activation='relu', kernel_initializer='he_normal', kernel_regularizer=tf.keras.regularizers.L2(lambda_l2))\n",
        "conv1 = tf.layers.batch_normalization(conv1)\n",
        "pool1 = tf.nn.max_pool(conv1, 2, 2, 'SAME', name='pool1')\n",
        "\n",
        "conv2 = tf.layers.conv2d(pool1, 32, 5, padding='same', activation='relu', kernel_initializer='he_normal', kernel_regularizer=tf.keras.regularizers.L2(lambda_l2))\n",
        "conv2 = tf.layers.batch_normalization(conv2)\n",
        "pool2 = tf.nn.max_pool(conv2, 2, 2, 'SAME', name='pool2')\n",
        "\n",
        "conv3 = tf.layers.conv2d(pool2, 64, 5, padding='same', activation='relu', kernel_initializer='he_normal', kernel_regularizer=tf.keras.regularizers.L2(lambda_l2))\n",
        "conv3 = tf.layers.batch_normalization(conv3)\n",
        "conv3 = tf.nn.dropout(conv3, keep_prob=0.55)\n",
        "pool3 = tf.nn.max_pool(conv3, 2, 2, 'SAME', name='pool3')\n",
        "\n",
        "\n",
        "upsamp1 = tf.image.resize_nearest_neighbor(pool3, [conv3.shape[1], conv3.shape[2]], True, name='upsamp1')\n",
        "concat1 = tf.concat([upsamp1, conv3], axis=3, name='concat1')\n",
        "conv4 = tf.layers.conv2d(concat1, 32, 3, padding='same', activation='relu', kernel_initializer='he_normal', kernel_regularizer=tf.keras.regularizers.L2(lambda_l2))\n",
        "conv4 = tf.layers.batch_normalization(conv4)\n",
        "conv4 = tf.nn.dropout(conv4, keep_prob=0.55)\n",
        "\n",
        "upsamp2 = tf.image.resize_nearest_neighbor(conv4, [conv2.shape[1], conv2.shape[2]], True, name='upsamp2')\n",
        "concat2 = tf.concat([upsamp2, conv2], axis=3, name='concat2')\n",
        "conv5 = tf.layers.conv2d(concat2, 16, 3, padding='same', activation='relu', kernel_initializer='he_normal', kernel_regularizer=tf.keras.regularizers.L2(lambda_l2))\n",
        "conv5 = tf.layers.batch_normalization(conv5)\n",
        "\n",
        "upsamp3 = tf.image.resize_nearest_neighbor(conv5, [conv1.shape[1], conv1.shape[2]], True, name='upsamp3')\n",
        "concat3 = tf.concat([upsamp3, conv1], axis=3, name='concat3')\n",
        "out = tf.layers.conv2d(concat3, 2, 3, padding='same', activation='sigmoid', kernel_initializer='he_normal', kernel_regularizer=tf.keras.regularizers.L2(lambda_l2))\n",
        "'''\n"
      ],
      "execution_count": 10,
      "outputs": []
    },
    {
      "cell_type": "markdown",
      "metadata": {
        "id": "65vTmzeYBFwg"
      },
      "source": [
        "Define the loss function"
      ]
    },
    {
      "cell_type": "code",
      "metadata": {
        "id": "PGzHzn86xREQ"
      },
      "source": [
        "lambda_ce = 1\n",
        "lambda_dice = 0.25\n",
        "lambda_inv_dice = 0.75\n",
        "lambda_reg = 0"
      ],
      "execution_count": 23,
      "outputs": []
    },
    {
      "cell_type": "code",
      "metadata": {
        "id": "diXf9Wr2BFJU"
      },
      "source": [
        "inv_out = 1-out\n",
        "inv_gt = 1-y_gt\n",
        "L_ce = tf.reduce_mean(-y_gt*tf.log(out + eps) - inv_gt*tf.log(inv_out + eps))\n",
        "#L_ce = tf.reduce_sum(-y_gt*tf.log(out + eps))\n",
        "#L_ce = tf.reduce_sum(-inv_gt*tf.log(inv_out + eps))\n",
        "L_dice = 1 - (tf.reduce_sum(2*out*y_gt) + eps)/(tf.reduce_sum(out + y_gt) + eps)\n",
        "L_inv_dice = 1 - (tf.reduce_sum(2*inv_out*inv_gt) + eps)/(tf.reduce_sum(inv_out + inv_gt) + eps)\n",
        "L_reg = tf.reduce_mean(tf.nn.relu(out[:,:,:,0]-out[:,:,:,1]))\n",
        "\n",
        "loss = lambda_ce*L_ce + lambda_dice*L_dice + lambda_inv_dice*L_inv_dice + lambda_reg*L_reg\n",
        "\n",
        "optimizer = tf.train.AdamOptimizer()\n",
        "train_op = optimizer.minimize(loss)"
      ],
      "execution_count": 24,
      "outputs": []
    },
    {
      "cell_type": "markdown",
      "metadata": {
        "id": "xRMiNmI3uzy8"
      },
      "source": [
        "Run training code"
      ]
    },
    {
      "cell_type": "code",
      "metadata": {
        "id": "IpSoTth7MQ3-"
      },
      "source": [
        "def compute_iou(out_contour_im, gt_contour_im):\n",
        "  #both inputs are binary segmentations\n",
        "  intersection = np.float64(np.sum(gt_contour_im*out_contour_im))\n",
        "  union = np.float64(np.sum(np.clip(gt_contour_im + out_contour_im, 0, 1)))\n",
        "  return np.float32((intersection)/(union))"
      ],
      "execution_count": 21,
      "outputs": []
    },
    {
      "cell_type": "code",
      "metadata": {
        "id": "mnGpvas8u2Sd",
        "outputId": "5e2a4c3b-a2d3-462c-add9-e7917bac11ba",
        "colab": {
          "base_uri": "https://localhost:8080/"
        }
      },
      "source": [
        "gpu_opts = tf.GPUOptions(per_process_gpu_memory_fraction=0.9)\n",
        "epochs = 31\n",
        "loss_values = []\n",
        "train_iou_values = []\n",
        "\n",
        "test_loss_values = []\n",
        "test_iou_values = []\n",
        "\n",
        "batch_size = 1\n",
        "data_size = len(Xs_sup)\n",
        "#test_size = len(Xs_test)\n",
        "test_size = len(Xs_val)\n",
        "\n",
        "Xs_sup_array = np.array(Xs_sup)\n",
        "ys_sup_array = np.array(ys_sup)\n",
        "\n",
        "#Xs_test_array = np.array(Xs_test)\n",
        "#ys_test_array = np.array(ys_test)\n",
        "\n",
        "Xs_test_array = np.array(Xs_val)\n",
        "ys_test_array = np.array(ys_val)\n",
        "\n",
        "with tf.Session(config=tf.ConfigProto(gpu_options=gpu_opts)) as sess:\n",
        "  sess.run(tf.global_variables_initializer())\n",
        "  for e in range(epochs):\n",
        "    epoch_losses = []\n",
        "    epoch_ious = []\n",
        "    rand_perm = rng.permutation(len(Xs_sup))\n",
        "    Xs_sup_array = Xs_sup_array[rand_perm]\n",
        "    ys_sup_array = ys_sup_array[rand_perm]\n",
        "    num_batches = data_size//batch_size\n",
        "    for b in range(num_batches):\n",
        "      in_batch = Xs_sup_array[b*batch_size:(b+1)*batch_size]\n",
        "      gt_batch = ys_sup_array[b*batch_size:(b+1)*batch_size]\n",
        "      gt_area = 100*np.mean(gt_batch)\n",
        "\n",
        "      #switching loss\n",
        "      #if gt_area>4:\n",
        "      #  lambda_inv_dice = 0.25\n",
        "      #  lambda_dice = 0.75\n",
        "      #else:\n",
        "      #  lambda_inv_dice = 0.75\n",
        "      #  lambda_dice = 0.25\n",
        "\n",
        "      #print(in_batch.shape)\n",
        "      #print(gt_batch.shape)\n",
        "      #print(in_batch.dtype)\n",
        "      #print(gt_batch.dtype)\n",
        "      feeds = {X_in: in_batch, y_gt: gt_batch}\n",
        "      out_im, loss_val, _ = sess.run([out, L_dice, train_op], feed_dict=feeds)\n",
        "      out_contour_im = np.copy(out_im)\n",
        "      out_contour_im[out_contour_im>=0.5] = 1\n",
        "      out_contour_im[out_contour_im<0.5] = 0\n",
        "      batch_iou = compute_iou(out_contour_im, gt_batch)\n",
        "      epoch_ious.append(batch_iou)\n",
        "      epoch_losses.append(loss_val)\n",
        "    if e%3 == 0:\n",
        "      test_epoch_losses = []\n",
        "      test_epoch_ious = []\n",
        "      #rand_perm = rng.permutation(len(Xs_test))\n",
        "      rand_perm = rng.permutation(len(Xs_val))\n",
        "      Xs_test_array = Xs_test_array[rand_perm]\n",
        "      ys_test_array = ys_test_array[rand_perm]\n",
        "      for tno in range(test_size):\n",
        "        test_in_batch = Xs_test_array[tno:tno+1]\n",
        "        test_gt_batch = ys_test_array[tno:tno+1]\n",
        "        feeds = {X_in: test_in_batch, y_gt: test_gt_batch}\n",
        "        test_out_im, test_loss_val = sess.run([out, L_dice], feed_dict=feeds)\n",
        "        test_out_contour_im = np.copy(test_out_im)\n",
        "        test_out_contour_im[test_out_contour_im>=0.5] = 1\n",
        "        test_out_contour_im[test_out_contour_im<0.5] = 0\n",
        "        test_batch_iou = compute_iou(test_out_contour_im, test_gt_batch)\n",
        "        test_epoch_ious.append(test_batch_iou)\n",
        "        test_epoch_losses.append(test_loss_val)\n",
        "      test_epoch_mean_loss = np.mean(np.array(test_epoch_losses))\n",
        "      test_epoch_mean_iou  = np.mean(np.array(test_epoch_ious))\n",
        "      print('Val')\n",
        "      #print('Test')\n",
        "      print(\"epoch loss : \" + str(test_epoch_mean_loss))\n",
        "      print(\"epoch iou : \" + str(test_epoch_mean_iou))\n",
        "      test_loss_values.append(test_epoch_mean_loss)\n",
        "      test_iou_values.append(test_epoch_mean_iou)\n",
        "\n",
        "    epoch_mean_loss = np.mean(np.array(epoch_losses))\n",
        "    epoch_mean_iou  = np.mean(np.array(epoch_ious))\n",
        "    print('epoch : ' + str(e))\n",
        "    print(\"epoch loss : \" + str(epoch_mean_loss))\n",
        "    print(\"epoch iou : \" + str(epoch_mean_iou))\n",
        "    loss_values.append(epoch_mean_loss)\n",
        "    train_iou_values.append(epoch_mean_iou)"
      ],
      "execution_count": null,
      "outputs": [
        {
          "output_type": "stream",
          "text": [
            "Val\n",
            "epoch loss : 0.46924388\n",
            "epoch iou : 0.4511294\n",
            "epoch : 0\n",
            "epoch loss : 0.73101556\n",
            "epoch iou : 0.16588745\n",
            "epoch : 1\n",
            "epoch loss : 0.42913422\n",
            "epoch iou : 0.4945989\n",
            "epoch : 2\n",
            "epoch loss : 0.26914918\n",
            "epoch iou : 0.6589541\n",
            "Val\n",
            "epoch loss : 0.20049354\n",
            "epoch iou : 0.7230889\n",
            "epoch : 3\n",
            "epoch loss : 0.19451432\n",
            "epoch iou : 0.7369632\n",
            "epoch : 4\n",
            "epoch loss : 0.15764128\n",
            "epoch iou : 0.77956223\n",
            "epoch : 5\n",
            "epoch loss : 0.13065116\n",
            "epoch iou : 0.81154084\n",
            "Val\n",
            "epoch loss : 0.32952517\n",
            "epoch iou : 0.55390894\n",
            "epoch : 6\n",
            "epoch loss : 0.107138544\n",
            "epoch iou : 0.8382212\n",
            "epoch : 7\n",
            "epoch loss : 0.10553083\n",
            "epoch iou : 0.84086126\n",
            "epoch : 8\n",
            "epoch loss : 0.07694628\n",
            "epoch iou : 0.8778467\n",
            "Val\n",
            "epoch loss : 0.17821719\n",
            "epoch iou : 0.7345199\n",
            "epoch : 9\n",
            "epoch loss : 0.095153764\n",
            "epoch iou : 0.85486424\n",
            "epoch : 10\n",
            "epoch loss : 0.07520927\n",
            "epoch iou : 0.87997895\n",
            "epoch : 11\n",
            "epoch loss : 0.06021815\n",
            "epoch iou : 0.9006734\n",
            "Val\n",
            "epoch loss : 0.17320597\n",
            "epoch iou : 0.7429226\n",
            "epoch : 12\n",
            "epoch loss : 0.060342547\n",
            "epoch iou : 0.9007772\n",
            "epoch : 13\n",
            "epoch loss : 0.077722035\n",
            "epoch iou : 0.8780347\n",
            "epoch : 14\n",
            "epoch loss : 0.04965939\n",
            "epoch iou : 0.91598725\n"
          ],
          "name": "stdout"
        }
      ]
    },
    {
      "cell_type": "code",
      "metadata": {
        "id": "xuTC3O5rzr1G",
        "outputId": "57b93cf5-f231-4cba-cfd6-5c3200743eae",
        "colab": {
          "base_uri": "https://localhost:8080/",
          "height": 701
        }
      },
      "source": [
        "#print('test iou values')\n",
        "#print(test_iou_values)\n",
        "\n",
        "#print('test loss values')\n",
        "#print(test_loss_values)\n",
        "\n",
        "print('val iou values')\n",
        "print(test_iou_values)\n",
        "\n",
        "#print('val loss values')\n",
        "#print(test_loss_values)\n",
        "\n",
        "print('train iou values')\n",
        "print(train_iou_values)\n",
        "\n",
        "print('train loss values')\n",
        "print(loss_values)\n",
        "\n",
        "train_last_epoch_iou_hist, bins = np.histogram(np.array(epoch_ious))\n",
        "plt.figure()\n",
        "plt.hist(np.array(epoch_ious))\n",
        "plt.title('last epoch train iou histogram')\n",
        "plt.show()\n",
        "\n",
        "#print('last epoch train loss values')\n",
        "#print(epoch_losses)\n",
        "\n",
        "test_last_epoch_iou_hist, bins = np.histogram(np.array(test_epoch_ious))\n",
        "plt.figure()\n",
        "plt.hist(np.array(test_epoch_ious))\n",
        "#plt.title('last epoch test iou histogram')\n",
        "plt.title('last epoch val iou histogram')\n",
        "plt.show()\n",
        "\n",
        "#print('last epoch test loss values')\n",
        "#print(test_epoch_losses)\n",
        "\n"
      ],
      "execution_count": null,
      "outputs": [
        {
          "output_type": "stream",
          "text": [
            "test iou values\n",
            "[0.006638861, 0.3866656, 0.49375263, 0.42392236, 0.5129047, 0.4678906, 0.45340016, 0.508986, 0.5199543]\n",
            "test loss values\n",
            "[0.83646226, 0.5014468, 0.40537336, 0.45682147, 0.3748459, 0.41818553, 0.4274872, 0.37709272, 0.3650243]\n",
            "train iou values\n",
            "[0.010828046, 0.2444794, 0.418756, 0.50849074, 0.57024765, 0.61915284, 0.65281314, 0.70009685, 0.72664034, 0.7405373, 0.76504993, 0.77568024, 0.791789, 0.80623424, 0.8150993, 0.82690775, 0.8222191, 0.8433772, 0.84796387, 0.85172576, 0.8589776, 0.8655936, 0.87511235, 0.8516477, 0.8817982]\n",
            "train loss values\n",
            "[0.831693, 0.6687214, 0.5064969, 0.41419098, 0.3507545, 0.3031546, 0.26979858, 0.22748621, 0.20386435, 0.18900499, 0.16912971, 0.16046499, 0.14643367, 0.13467313, 0.12818669, 0.1175903, 0.123382494, 0.105044685, 0.101640336, 0.09847648, 0.092830434, 0.08784521, 0.080675915, 0.09956059, 0.07564427]\n"
          ],
          "name": "stdout"
        },
        {
          "output_type": "display_data",
          "data": {
            "image/png": "[encoded data removed]",
            "text/plain": [
              "<Figure size 432x288 with 1 Axes>"
            ]
          },
          "metadata": {
            "tags": [],
            "needs_background": "light"
          }
        },
        {
          "output_type": "display_data",
          "data": {
            "image/png": "[encoded data removed]",
            "text/plain": [
              "<Figure size 432x288 with 1 Axes>"
            ]
          },
          "metadata": {
            "tags": [],
            "needs_background": "light"
          }
        }
      ]
    },
    {
      "cell_type": "code",
      "metadata": {
        "id": "45EiikfFDbcL",
        "outputId": "0dd8da27-a526-4ea9-a817-1afb2fa93d0f",
        "colab": {
          "base_uri": "https://localhost:8080/",
          "height": 1000
        }
      },
      "source": [
        "\n",
        "plt.figure()\n",
        "plt.title('out contour i')\n",
        "plt.imshow(test_out_contour_im[0,:,:,0])\n",
        "\n",
        "plt.figure()\n",
        "plt.title('gt contour i')\n",
        "plt.imshow(test_gt_batch[0,:,:,0])\n",
        "\n",
        "plt.figure()\n",
        "plt.title('out contour o')\n",
        "plt.imshow(test_out_contour_im[0,:,:,1])\n",
        "\n",
        "plt.figure()\n",
        "plt.title('gt contour o')\n",
        "plt.imshow(test_gt_batch[0,:,:,1])\n",
        "\n",
        "\n",
        "print(test_batch_iou)\n",
        "print(np.max(np.array(test_epoch_ious)))"
      ],
      "execution_count": null,
      "outputs": [
        {
          "output_type": "stream",
          "text": [
            "0.8724613\n",
            "0.92872155\n"
          ],
          "name": "stdout"
        },
        {
          "output_type": "display_data",
          "data": {
            "image/png": "[encoded data removed]",
            "text/plain": [
              "<Figure size 432x288 with 1 Axes>"
            ]
          },
          "metadata": {
            "tags": [],
            "needs_background": "light"
          }
        },
        {
          "output_type": "display_data",
          "data": {
            "image/png": "[encoded data removed]",
            "text/plain": [
              "<Figure size 432x288 with 1 Axes>"
            ]
          },
          "metadata": {
            "tags": [],
            "needs_background": "light"
          }
        },
        {
          "output_type": "display_data",
          "data": {
            "image/png": "[encoded data removed]",
            "text/plain": [
              "<Figure size 432x288 with 1 Axes>"
            ]
          },
          "metadata": {
            "tags": [],
            "needs_background": "light"
          }
        },
        {
          "output_type": "display_data",
          "data": {
            "image/png": "[encoded data removed]",
            "text/plain": [
              "<Figure size 432x288 with 1 Axes>"
            ]
          },
          "metadata": {
            "tags": [],
            "needs_background": "light"
          }
        }
      ]
    },
    {
      "cell_type": "code",
      "metadata": {
        "id": "eUlmNk5BSyXX",
        "outputId": "757f45d2-5b76-4551-c7c3-58c669dd8b59",
        "colab": {
          "base_uri": "https://localhost:8080/",
          "height": 1000
        }
      },
      "source": [
        "test_gt_areas_pc = 100*np.mean(ys_test_array, axis=(1, 2, 3))\n",
        "train_gt_areas_pc = 100*np.mean(ys_sup_array, axis=(1, 2, 3))\n",
        "\n",
        "plt.figure()\n",
        "plt.hist(test_gt_areas_pc)\n",
        "#plt.title('histogram of percentage of image area covered in test set')\n",
        "plt.title('histogram of percentage of image area covered in val set')\n",
        "plt.show()\n",
        "\n",
        "plt.figure()\n",
        "plt.hist(train_gt_areas_pc)\n",
        "plt.title('histogram of percentage of image area covered in train set')\n",
        "plt.show()\n",
        "\n",
        "plt.figure()\n",
        "plt.scatter(test_gt_areas_pc, test_epoch_ious)\n",
        "#plt.xlabel('size of test image ground truth (% image area)')\n",
        "plt.xlabel('size of val image ground truth (% image area)')\n",
        "plt.ylabel('IOU computed on sample')\n",
        "plt.title('IOU vs ground truth size')\n",
        "plt.show()\n",
        "\n",
        "plt.figure()\n",
        "plt.scatter(train_gt_areas_pc, epoch_ious)\n",
        "plt.xlabel('size of train image ground truth (% image area)')\n",
        "plt.ylabel('IOU computed on sample')\n",
        "plt.title('IOU vs ground truth size')\n",
        "plt.show()"
      ],
      "execution_count": null,
      "outputs": [
        {
          "output_type": "display_data",
          "data": {
            "image/png": "[encoded data removed]",
            "text/plain": [
              "<Figure size 432x288 with 1 Axes>"
            ]
          },
          "metadata": {
            "tags": [],
            "needs_background": "light"
          }
        },
        {
          "output_type": "display_data",
          "data": {
            "image/png": "[encoded data removed]",
            "text/plain": [
              "<Figure size 432x288 with 1 Axes>"
            ]
          },
          "metadata": {
            "tags": [],
            "needs_background": "light"
          }
        },
        {
          "output_type": "display_data",
          "data": {
            "image/png": "[encoded data removed]",
            "text/plain": [
              "<Figure size 432x288 with 1 Axes>"
            ]
          },
          "metadata": {
            "tags": [],
            "needs_background": "light"
          }
        },
        {
          "output_type": "display_data",
          "data": {
            "image/png": "[encoded data removed]",
            "text/plain": [
              "<Figure size 432x288 with 1 Axes>"
            ]
          },
          "metadata": {
            "tags": [],
            "needs_background": "light"
          }
        }
      ]
    }
  ]
}