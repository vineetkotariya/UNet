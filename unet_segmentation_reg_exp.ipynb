{
  "nbformat": 4,
  "nbformat_minor": 0,
  "metadata": {
    "colab": {
      "name": "unet_segmentation_sharing.ipynb",
      "provenance": [],
      "collapsed_sections": []
    },
    "kernelspec": {
      "name": "python3",
      "display_name": "Python 3"
    },
    "accelerator": "GPU"
  },
  "cells": [
    {
      "cell_type": "code",
      "metadata": {
        "id": "Re0NcmNAiJjA",
        "outputId": "a1f1f5d6-8e8f-4efb-e85a-3ea305b737ab",
        "colab": {
          "base_uri": "https://localhost:8080/"
        }
      },
      "source": [
        "!pip install pydicom\n",
        "import pydicom as dicom"
      ],
      "execution_count": null,
      "outputs": [
        {
          "output_type": "stream",
          "text": [
            "Requirement already satisfied: pydicom in /usr/local/lib/python3.6/dist-packages (2.0.0)\n"
          ],
          "name": "stdout"
        }
      ]
    },
    {
      "cell_type": "code",
      "metadata": {
        "id": "gvVJV7gyiOGo"
      },
      "source": [
        "import numpy as np\n",
        "import tensorflow.compat.v1 as tf\n",
        "import cv2\n",
        "import glob\n",
        "import matplotlib.pyplot as plt"
      ],
      "execution_count": null,
      "outputs": []
    },
    {
      "cell_type": "code",
      "metadata": {
        "id": "otbutLLhjqMq",
        "outputId": "9ade1837-b23a-4886-9679-d7d969969185",
        "colab": {
          "base_uri": "https://localhost:8080/"
        }
      },
      "source": [
        "from google.colab import drive\n",
        "drive.mount('/content/drive')"
      ],
      "execution_count": null,
      "outputs": [
        {
          "output_type": "stream",
          "text": [
            "Drive already mounted at /content/drive; to attempt to forcibly remount, call drive.mount(\"/content/drive\", force_remount=True).\n"
          ],
          "name": "stdout"
        }
      ]
    },
    {
      "cell_type": "code",
      "metadata": {
        "id": "qV91L-eomFYT"
      },
      "source": [
        "#load train data\n",
        "tf.disable_v2_behavior()\n",
        "seed = 0\n",
        "eps = 1e-8\n",
        "rng = np.random.RandomState(seed)\n",
        "tf.set_random_seed(seed)\n",
        "np.seterr(all='raise')\n",
        "\n",
        "data_path = '/content/drive/My Drive/AML_assn1/ProcessedData/'\n",
        "Xs_sup = []\n",
        "ys_sup = []\n",
        "\n",
        "Xs_unsup = []\n",
        "img_files = sorted(glob.glob(data_path + 'input/*.dcm'))\n",
        "gti_files = sorted(glob.glob(data_path + 'gt_icontour/*.png'))\n",
        "gto_files = sorted(glob.glob(data_path + 'gt_ocontour/*.png'))\n",
        "\n",
        "unsup_files = sorted(glob.glob(data_path + 'no_gt_input/*.dcm'))\n",
        "for dcm_file in img_files:\n",
        "  ds = dicom.dcmread(dcm_file)\n",
        "  img_data = np.array(ds.pixel_array)\n",
        "  img_data = np.float32(img_data)/np.max(img_data)\n",
        "  img_data = np.expand_dims(img_data, axis=-1)\n",
        "  if img_data.shape[0]<img_data.shape[1]:\n",
        "    img_data = np.transpose(img_data, axes=(1, 0, 2))\n",
        "  Xs_sup.append(img_data)\n",
        "\n",
        "for i in range(len(gti_files)):\n",
        "  gti_file = gti_files[i]\n",
        "  gto_file = gto_files[i]\n",
        "  \n",
        "  im_icontour = cv2.imread(gti_file, cv2.IMREAD_GRAYSCALE)\n",
        "  im_ocontour = cv2.imread(gto_file, cv2.IMREAD_GRAYSCALE)\n",
        "\n",
        "  im_icontour = np.float32(im_icontour)/np.max(im_icontour)\n",
        "  im_ocontour = np.float32(im_ocontour)/np.max(im_ocontour)\n",
        "  \n",
        "  im_icontour = np.expand_dims(im_icontour, axis=-1)\n",
        "  im_ocontour = np.expand_dims(im_ocontour, axis=-1)\n",
        "\n",
        "  im_contour = np.concatenate((im_icontour, im_ocontour), axis=2)\n",
        "  if im_contour.shape[0]<im_contour.shape[1]:\n",
        "    im_contour = np.transpose(im_contour, axes=(1, 0, 2))\n",
        "  ys_sup.append(im_contour)\n"
      ],
      "execution_count": null,
      "outputs": []
    },
    {
      "cell_type": "code",
      "metadata": {
        "id": "KtZSrhMM0zVD"
      },
      "source": [
        "#load test data\n",
        "data_path = '/content/drive/My Drive/AML_assn1/ProcessedTest1Data/'\n",
        "Xs_test = []\n",
        "ys_test = []\n",
        "\n",
        "test_img_files = sorted(glob.glob(data_path + 'input/*.dcm'))\n",
        "test_gti_files = sorted(glob.glob(data_path + 'gt_icontour/*.png'))\n",
        "test_gto_files = sorted(glob.glob(data_path + 'gt_ocontour/*.png'))\n",
        "\n",
        "for dcm_file in test_img_files:\n",
        "  ds = dicom.dcmread(dcm_file)\n",
        "  img_data = np.array(ds.pixel_array)\n",
        "  img_data = np.float32(img_data)/np.max(img_data)\n",
        "  img_data = np.expand_dims(img_data, axis=-1)\n",
        "  if img_data.shape[0]<img_data.shape[1]:\n",
        "    img_data = np.transpose(img_data, axes=(1, 0, 2))\n",
        "  Xs_test.append(img_data)\n",
        "\n",
        "for i in range(len(test_gti_files)):\n",
        "  gti_file = test_gti_files[i]\n",
        "  gto_file = test_gto_files[i]\n",
        "  \n",
        "  im_icontour = cv2.imread(gti_file, cv2.IMREAD_GRAYSCALE)\n",
        "  im_ocontour = cv2.imread(gto_file, cv2.IMREAD_GRAYSCALE)\n",
        "\n",
        "  im_icontour = np.float32(im_icontour)/np.max(im_icontour)\n",
        "  im_ocontour = np.float32(im_ocontour)/np.max(im_ocontour)\n",
        "  \n",
        "  im_icontour = np.expand_dims(im_icontour, axis=-1)\n",
        "  im_ocontour = np.expand_dims(im_ocontour, axis=-1)\n",
        "\n",
        "  im_contour = np.concatenate((im_icontour, im_ocontour), axis=2)\n",
        "  if im_contour.shape[0]<im_contour.shape[1]:\n",
        "    im_contour = np.transpose(im_contour, axes=(1, 0, 2))\n",
        "  ys_test.append(im_contour)"
      ],
      "execution_count": null,
      "outputs": []
    },
    {
      "cell_type": "code",
      "metadata": {
        "id": "YfylDtAgFdXU"
      },
      "source": [
        "#augment data with lr and ud flips (use np.fliplr() and np.flipud())\n",
        "for i in range(len(Xs_sup)):\n",
        "  in_im = Xs_sup[i]\n",
        "  gt_im = ys_sup[i]\n",
        "  in_flip1 = np.fliplr(in_im)\n",
        "  gt_flip1 = np.fliplr(gt_im)\n",
        "\n",
        "  in_flip2 = np.flipud(in_im)\n",
        "  gt_flip2 = np.flipud(gt_im)\n",
        "\n",
        "  in_flip3 = np.flipud(in_flip1)\n",
        "  gt_flip3 = np.flipud(gt_flip1)\n",
        "\n",
        "  Xs_sup.append(in_flip1)\n",
        "  Xs_sup.append(in_flip2)\n",
        "  Xs_sup.append(in_flip3)\n",
        "\n",
        "  ys_sup.append(gt_flip1)\n",
        "  ys_sup.append(gt_flip2)\n",
        "  ys_sup.append(gt_flip3)"
      ],
      "execution_count": null,
      "outputs": []
    },
    {
      "cell_type": "code",
      "metadata": {
        "id": "W0KiCTkjj1VT"
      },
      "source": [
        "  '''\n",
        "  from sklearn.model_selection import train_test_split\n",
        "  frac = 0.8\n",
        "  Xs_sup,_, ys_sup,_ = train_test_split(Xs_sup, ys_sup, train_size=frac, random_state=1)\n",
        "  e_ = 1 #int(1/frac)\n",
        "  #20,40,60,80,100\n",
        "  '''\n"
      ],
      "execution_count": null,
      "outputs": []
    },
    {
      "cell_type": "code",
      "metadata": {
        "id": "Px9SSFHYwXZU",
        "outputId": "2dd87eea-db8b-4648-e864-6326d8f4918b",
        "colab": {
          "base_uri": "https://localhost:8080/"
        }
      },
      "source": [
        "print(len(ys_sup))\n",
        "print(len(Xs_sup))\n",
        "\n",
        "e_ = 1\n",
        "print(Xs_sup[16].shape)\n",
        "print(ys_sup[16].shape)"
      ],
      "execution_count": null,
      "outputs": [
        {
          "output_type": "stream",
          "text": [
            "777\n",
            "777\n"
          ],
          "name": "stdout"
        }
      ]
    },
    {
      "cell_type": "markdown",
      "metadata": {
        "id": "icbeMiyoBnM6"
      },
      "source": [
        "1.SIMPLE MODEL (No regularization)\n",
        "\n",
        "[uncomment to use - comment out rest 3]"
      ]
    },
    {
      "cell_type": "code",
      "metadata": {
        "id": "PpFN3PonAqd9"
      },
      "source": [
        "#define model: Simple (no regularization)\n",
        "'''\n",
        "X_in = tf.placeholder('float', [1, Xs_sup[0].shape[0], Xs_sup[0].shape[1], Xs_sup[0].shape[2]])\n",
        "y_gt = tf.placeholder('float', [1, ys_sup[0].shape[0], ys_sup[0].shape[1], ys_sup[0].shape[2]])\n",
        "prob = tf.placeholder_with_default(1.0, shape=())\n",
        "\n",
        "conv1 = tf.layers.conv2d(X_in, 16, 5, padding='same', activation='relu', kernel_initializer='he_normal')\n",
        "pool1 = tf.nn.max_pool(conv1, 2, 2, 'SAME', name='pool1')\n",
        "conv2 = tf.layers.conv2d(pool1, 32, 5, padding='same', activation='relu', kernel_initializer='he_normal')\n",
        "pool2 = tf.nn.max_pool(conv2, 2, 2, 'SAME', name='pool2')\n",
        "conv3 = tf.layers.conv2d(pool2, 64, 5, padding='same', activation='relu', kernel_initializer='he_normal')\n",
        "pool3 = tf.nn.max_pool(conv3, 2, 2, 'SAME', name='pool3')\n",
        "\n",
        "\n",
        "upsamp1 = tf.image.resize_nearest_neighbor(pool3, [conv3.shape[1], conv3.shape[2]], True, name='upsamp1')\n",
        "concat1 = tf.concat([upsamp1, conv3], axis=3, name='concat1')\n",
        "conv4 = tf.layers.conv2d(concat1, 32, 3, padding='same', activation='relu', kernel_initializer='he_normal')\n",
        "\n",
        "upsamp2 = tf.image.resize_nearest_neighbor(conv4, [conv2.shape[1], conv2.shape[2]], True, name='upsamp2')\n",
        "concat2 = tf.concat([upsamp2, conv2], axis=3, name='concat2')\n",
        "conv5 = tf.layers.conv2d(concat2, 16, 3, padding='same', activation='relu', kernel_initializer='he_normal')\n",
        "\n",
        "upsamp3 = tf.image.resize_nearest_neighbor(conv5, [conv1.shape[1], conv1.shape[2]], True, name='upsamp3')\n",
        "concat3 = tf.concat([upsamp3, conv1], axis=3, name='concat3')\n",
        "out = tf.layers.conv2d(concat3, 2, 3, padding='same', activation='sigmoid', kernel_initializer='he_normal')\n",
        "'''"
      ],
      "execution_count": null,
      "outputs": []
    },
    {
      "cell_type": "markdown",
      "metadata": {
        "id": "6PUiXCaCBvZ5"
      },
      "source": [
        "2.Dropout Added in layers 3 and 4\n",
        "\n",
        "[uncomment to use - comment out rest 3]"
      ]
    },
    {
      "cell_type": "code",
      "metadata": {
        "id": "EEs39phi9bEf"
      },
      "source": [
        "#define model: Dropout\n",
        "'''\n",
        "X_in = tf.placeholder('float', [1, Xs_sup[0].shape[0], Xs_sup[0].shape[1], Xs_sup[0].shape[2]])\n",
        "y_gt = tf.placeholder('float', [1, ys_sup[0].shape[0], ys_sup[0].shape[1], ys_sup[0].shape[2]])\n",
        "prob = tf.placeholder_with_default(1.0, shape=())\n",
        "\n",
        "conv1 = tf.layers.conv2d(X_in, 16, 5, padding='same', activation='relu', kernel_initializer='he_normal')\n",
        "pool1 = tf.nn.max_pool(conv1, 2, 2, 'SAME', name='pool1')\n",
        "conv2 = tf.layers.conv2d(pool1, 32, 5, padding='same', activation='relu', kernel_initializer='he_normal')\n",
        "pool2 = tf.nn.max_pool(conv2, 2, 2, 'SAME', name='pool2')\n",
        "conv3 = tf.layers.conv2d(pool2, 64, 5, padding='same', activation='relu', kernel_initializer='he_normal')\n",
        "conv3 = tf.nn.dropout(conv3, keep_prob=prob)\n",
        "pool3 = tf.nn.max_pool(conv3, 2, 2, 'SAME', name='pool3')\n",
        "\n",
        "\n",
        "upsamp1 = tf.image.resize_nearest_neighbor(pool3, [conv3.shape[1], conv3.shape[2]], True, name='upsamp1')\n",
        "concat1 = tf.concat([upsamp1, conv3], axis=3, name='concat1')\n",
        "conv4 = tf.layers.conv2d(concat1, 32, 3, padding='same', activation='relu', kernel_initializer='he_normal')\n",
        "conv4 = tf.nn.dropout(conv4, keep_prob=prob)\n",
        "\n",
        "upsamp2 = tf.image.resize_nearest_neighbor(conv4, [conv2.shape[1], conv2.shape[2]], True, name='upsamp2')\n",
        "concat2 = tf.concat([upsamp2, conv2], axis=3, name='concat2')\n",
        "conv5 = tf.layers.conv2d(concat2, 16, 3, padding='same', activation='relu', kernel_initializer='he_normal')\n",
        "\n",
        "upsamp3 = tf.image.resize_nearest_neighbor(conv5, [conv1.shape[1], conv1.shape[2]], True, name='upsamp3')\n",
        "concat3 = tf.concat([upsamp3, conv1], axis=3, name='concat3')\n",
        "out = tf.layers.conv2d(concat3, 2, 3, padding='same', activation='sigmoid', kernel_initializer='he_normal')\n",
        "'''"
      ],
      "execution_count": null,
      "outputs": []
    },
    {
      "cell_type": "markdown",
      "metadata": {
        "id": "rtKX4Y8UB1Lh"
      },
      "source": [
        "3.Drop Out + L2 regularizer\n",
        "\n",
        "[uncomment to use - comment out rest 3]"
      ]
    },
    {
      "cell_type": "code",
      "metadata": {
        "id": "zN8RGn9f61Kz",
        "outputId": "ec0ee05e-bc7c-4800-a99c-aebe47ac7689",
        "colab": {
          "base_uri": "https://localhost:8080/",
          "height": 145
        }
      },
      "source": [
        "#define model: Drop Out + L2\n",
        "'''\n",
        "lambda_l2 = 0.05\n",
        "X_in = tf.placeholder('float', [1, Xs_sup[0].shape[0], Xs_sup[0].shape[1], Xs_sup[0].shape[2]])\n",
        "y_gt = tf.placeholder('float', [1, ys_sup[0].shape[0], ys_sup[0].shape[1], ys_sup[0].shape[2]])\n",
        "prob = tf.placeholder_with_default(1.0, shape=())\n",
        "\n",
        "conv1 = tf.layers.conv2d(X_in, 16, 5, padding='same', activation='relu', kernel_initializer='he_normal', kernel_regularizer=tf.keras.regularizers.L2(lambda_l2))\n",
        "pool1 = tf.nn.max_pool(conv1, 2, 2, 'SAME', name='pool1')\n",
        "conv2 = tf.layers.conv2d(pool1, 32, 5, padding='same', activation='relu', kernel_initializer='he_normal', kernel_regularizer=tf.keras.regularizers.L2(lambda_l2))\n",
        "pool2 = tf.nn.max_pool(conv2, 2, 2, 'SAME', name='pool2')\n",
        "conv3 = tf.layers.conv2d(pool2, 64, 5, padding='same', activation='relu', kernel_initializer='he_normal', kernel_regularizer=tf.keras.regularizers.L2(lambda_l2))\n",
        "conv3 = tf.nn.dropout(conv3, keep_prob=prob)\n",
        "pool3 = tf.nn.max_pool(conv3, 2, 2, 'SAME', name='pool3')\n",
        "\n",
        "\n",
        "upsamp1 = tf.image.resize_nearest_neighbor(pool3, [conv3.shape[1], conv3.shape[2]], True, name='upsamp1')\n",
        "concat1 = tf.concat([upsamp1, conv3], axis=3, name='concat1')\n",
        "conv4 = tf.layers.conv2d(concat1, 32, 3, padding='same', activation='relu', kernel_initializer='he_normal', kernel_regularizer=tf.keras.regularizers.L2(lambda_l2))\n",
        "conv4 = tf.nn.dropout(conv4, keep_prob=prob)\n",
        "\n",
        "upsamp2 = tf.image.resize_nearest_neighbor(conv4, [conv2.shape[1], conv2.shape[2]], True, name='upsamp2')\n",
        "concat2 = tf.concat([upsamp2, conv2], axis=3, name='concat2')\n",
        "conv5 = tf.layers.conv2d(concat2, 16, 3, padding='same', activation='relu', kernel_initializer='he_normal', kernel_regularizer=tf.keras.regularizers.L2(lambda_l2))\n",
        "\n",
        "upsamp3 = tf.image.resize_nearest_neighbor(conv5, [conv1.shape[1], conv1.shape[2]], True, name='upsamp3')\n",
        "concat3 = tf.concat([upsamp3, conv1], axis=3, name='concat3')\n",
        "out = tf.layers.conv2d(concat3, 2, 3, padding='same', activation='sigmoid', kernel_initializer='he_normal', kernel_regularizer=tf.keras.regularizers.L2(lambda_l2))\n",
        "'''"
      ],
      "execution_count": null,
      "outputs": [
        {
          "output_type": "execute_result",
          "data": {
            "application/vnd.google.colaboratory.intrinsic+json": {
              "type": "string"
            },
            "text/plain": [
              "\"\\nlambda_l2 = 0.05\\n#define model: Drop Out + L2\\nX_in = tf.placeholder('float', [1, Xs_sup[0].shape[0], Xs_sup[0].shape[1], Xs_sup[0].shape[2]])\\ny_gt = tf.placeholder('float', [1, ys_sup[0].shape[0], ys_sup[0].shape[1], ys_sup[0].shape[2]])\\n\\nconv1 = tf.layers.conv2d(X_in, 16, 5, padding='same', activation='relu', kernel_initializer='he_normal', kernel_regularizer=tf.keras.regularizers.L2(lambda_l2))\\npool1 = tf.nn.max_pool(conv1, 2, 2, 'SAME', name='pool1')\\nconv2 = tf.layers.conv2d(pool1, 32, 5, padding='same', activation='relu', kernel_initializer='he_normal', kernel_regularizer=tf.keras.regularizers.L2(lambda_l2))\\npool2 = tf.nn.max_pool(conv2, 2, 2, 'SAME', name='pool2')\\nconv3 = tf.layers.conv2d(pool2, 64, 5, padding='same', activation='relu', kernel_initializer='he_normal', kernel_regularizer=tf.keras.regularizers.L2(lambda_l2))\\nconv3 = tf.nn.dropout(conv3, keep_prob=0.5)\\npool3 = tf.nn.max_pool(conv3, 2, 2, 'SAME', name='pool3')\\n\\n\\nupsamp1 = tf.image.resize_nearest_neighbor(pool3, [conv3.shape[1], conv3.shape[2]], True, name='upsamp1')\\nconcat1 = tf.concat([upsamp1, conv3], axis=3, name='concat1')\\nconv4 = tf.layers.conv2d(concat1, 32, 3, padding='same', activation='relu', kernel_initializer='he_normal', kernel_regularizer=tf.keras.regularizers.L2(lambda_l2))\\nconv4 = tf.nn.dropout(conv4, keep_prob=0.5)\\n\\nupsamp2 = tf.image.resize_nearest_neighbor(conv4, [conv2.shape[1], conv2.shape[2]], True, name='upsamp2')\\nconcat2 = tf.concat([upsamp2, conv2], axis=3, name='concat2')\\nconv5 = tf.layers.conv2d(concat2, 16, 3, padding='same', activation='relu', kernel_initializer='he_normal', kernel_regularizer=tf.keras.regularizers.L2(lambda_l2))\\n\\nupsamp3 = tf.image.resize_nearest_neighbor(conv5, [conv1.shape[1], conv1.shape[2]], True, name='upsamp3')\\nconcat3 = tf.concat([upsamp3, conv1], axis=3, name='concat3')\\nout = tf.layers.conv2d(concat3, 2, 3, padding='same', activation='sigmoid', kernel_initializer='he_normal', kernel_regularizer=tf.keras.regularizers.L2(lambda_l2))\\n\""
            ]
          },
          "metadata": {
            "tags": []
          },
          "execution_count": 470
        }
      ]
    },
    {
      "cell_type": "markdown",
      "metadata": {
        "id": "UP3fmF1RCC_y"
      },
      "source": [
        "4.Dropout + L2 regularizer + Batch Normalization\n",
        "\n",
        "[uncomment to use - comment out rest 3]"
      ]
    },
    {
      "cell_type": "code",
      "metadata": {
        "id": "7tndAA9ZXDNr",
        "outputId": "ee35d1bd-62f9-4901-a7b8-f2fe3603de79",
        "colab": {
          "base_uri": "https://localhost:8080/",
          "height": 145
        }
      },
      "source": [
        "#define model: Dropout + L2 + BatchNorm\n",
        "lambda_l2 = 0.05\n",
        "\n",
        "X_in = tf.placeholder('float', [1, Xs_sup[0].shape[0], Xs_sup[0].shape[1], Xs_sup[0].shape[2]])\n",
        "y_gt = tf.placeholder('float', [1, ys_sup[0].shape[0], ys_sup[0].shape[1], ys_sup[0].shape[2]])\n",
        "prob = tf.placeholder_with_default(1.0, shape=())\n",
        "\n",
        "conv1 = tf.layers.conv2d(X_in, 16, 5, padding='same', activation='relu', kernel_initializer='he_normal', kernel_regularizer=tf.keras.regularizers.L2(lambda_l2))\n",
        "conv1 = tf.layers.batch_normalization(conv1)\n",
        "pool1 = tf.nn.max_pool(conv1, 2, 2, 'SAME', name='pool1')\n",
        "\n",
        "conv2 = tf.layers.conv2d(pool1, 32, 5, padding='same', activation='relu', kernel_initializer='he_normal', kernel_regularizer=tf.keras.regularizers.L2(lambda_l2))\n",
        "conv2 = tf.layers.batch_normalization(conv2)\n",
        "pool2 = tf.nn.max_pool(conv2, 2, 2, 'SAME', name='pool2')\n",
        "\n",
        "conv3 = tf.layers.conv2d(pool2, 64, 5, padding='same', activation='relu', kernel_initializer='he_normal', kernel_regularizer=tf.keras.regularizers.L2(lambda_l2))\n",
        "conv3 = tf.layers.batch_normalization(conv3)\n",
        "conv3 = tf.nn.dropout(conv3, keep_prob=prob)\n",
        "pool3 = tf.nn.max_pool(conv3, 2, 2, 'SAME', name='pool3')\n",
        "\n",
        "\n",
        "upsamp1 = tf.image.resize_nearest_neighbor(pool3, [conv3.shape[1], conv3.shape[2]], True, name='upsamp1')\n",
        "concat1 = tf.concat([upsamp1, conv3], axis=3, name='concat1')\n",
        "conv4 = tf.layers.conv2d(concat1, 32, 3, padding='same', activation='relu', kernel_initializer='he_normal', kernel_regularizer=tf.keras.regularizers.L2(lambda_l2))\n",
        "conv4 = tf.layers.batch_normalization(conv4)\n",
        "conv4 = tf.nn.dropout(conv4, keep_prob=prob)\n",
        "\n",
        "upsamp2 = tf.image.resize_nearest_neighbor(conv4, [conv2.shape[1], conv2.shape[2]], True, name='upsamp2')\n",
        "concat2 = tf.concat([upsamp2, conv2], axis=3, name='concat2')\n",
        "conv5 = tf.layers.conv2d(concat2, 16, 3, padding='same', activation='relu', kernel_initializer='he_normal', kernel_regularizer=tf.keras.regularizers.L2(lambda_l2))\n",
        "conv5 = tf.layers.batch_normalization(conv5)\n",
        "\n",
        "upsamp3 = tf.image.resize_nearest_neighbor(conv5, [conv1.shape[1], conv1.shape[2]], True, name='upsamp3')\n",
        "concat3 = tf.concat([upsamp3, conv1], axis=3, name='concat3')\n",
        "out = tf.layers.conv2d(concat3, 2, 3, padding='same', activation='sigmoid', kernel_initializer='he_normal', kernel_regularizer=tf.keras.regularizers.L2(lambda_l2))\n"
      ],
      "execution_count": null,
      "outputs": [
        {
          "output_type": "execute_result",
          "data": {
            "application/vnd.google.colaboratory.intrinsic+json": {
              "type": "string"
            },
            "text/plain": [
              "\"\\nlambda_l2 = 0.05\\n#define model: Dropout + L2 + BatchNorm\\nX_in = tf.placeholder('float', [1, Xs_sup[0].shape[0], Xs_sup[0].shape[1], Xs_sup[0].shape[2]])\\ny_gt = tf.placeholder('float', [1, ys_sup[0].shape[0], ys_sup[0].shape[1], ys_sup[0].shape[2]])\\n\\nconv1 = tf.layers.conv2d(X_in, 16, 5, padding='same', activation='relu', kernel_initializer='he_normal', kernel_regularizer=tf.keras.regularizers.L2(lambda_l2))\\nconv1 = tf.layers.batch_normalization(conv1)\\npool1 = tf.nn.max_pool(conv1, 2, 2, 'SAME', name='pool1')\\n\\nconv2 = tf.layers.conv2d(pool1, 32, 5, padding='same', activation='relu', kernel_initializer='he_normal', kernel_regularizer=tf.keras.regularizers.L2(lambda_l2))\\nconv2 = tf.layers.batch_normalization(conv2)\\npool2 = tf.nn.max_pool(conv2, 2, 2, 'SAME', name='pool2')\\n\\nconv3 = tf.layers.conv2d(pool2, 64, 5, padding='same', activation='relu', kernel_initializer='he_normal', kernel_regularizer=tf.keras.regularizers.L2(lambda_l2))\\nconv3 = tf.layers.batch_normalization(conv3)\\nconv3 = tf.nn.dropout(conv3, keep_prob=0.5)\\npool3 = tf.nn.max_pool(conv3, 2, 2, 'SAME', name='pool3')\\n\\n\\nupsamp1 = tf.image.resize_nearest_neighbor(pool3, [conv3.shape[1], conv3.shape[2]], True, name='upsamp1')\\nconcat1 = tf.concat([upsamp1, conv3], axis=3, name='concat1')\\nconv4 = tf.layers.conv2d(concat1, 32, 3, padding='same', activation='relu', kernel_initializer='he_normal', kernel_regularizer=tf.keras.regularizers.L2(lambda_l2))\\nconv4 = tf.layers.batch_normalization(conv4)\\nconv4 = tf.nn.dropout(conv4, keep_prob=0.5)\\n\\nupsamp2 = tf.image.resize_nearest_neighbor(conv4, [conv2.shape[1], conv2.shape[2]], True, name='upsamp2')\\nconcat2 = tf.concat([upsamp2, conv2], axis=3, name='concat2')\\nconv5 = tf.layers.conv2d(concat2, 16, 3, padding='same', activation='relu', kernel_initializer='he_normal', kernel_regularizer=tf.keras.regularizers.L2(lambda_l2))\\nconv5 = tf.layers.batch_normalization(conv5)\\n\\nupsamp3 = tf.image.resize_nearest_neighbor(conv5, [conv1.shape[1], conv1.shape[2]], True, name='upsamp3')\\nconcat3 = tf.concat([upsamp3, conv1], axis=3, name='concat3')\\nout = tf.layers.conv2d(concat3, 2, 3, padding='same', activation='sigmoid', kernel_initializer='he_normal', kernel_regularizer=tf.keras.regularizers.L2(lambda_l2))\\n\""
            ]
          },
          "metadata": {
            "tags": []
          },
          "execution_count": 471
        }
      ]
    },
    {
      "cell_type": "markdown",
      "metadata": {
        "id": "65vTmzeYBFwg"
      },
      "source": [
        "Define the loss function"
      ]
    },
    {
      "cell_type": "code",
      "metadata": {
        "id": "PGzHzn86xREQ"
      },
      "source": [
        "lambda_ce = 1\n",
        "lambda_dice = 1\n",
        "lambda_inv_dice = 1\n",
        "lambda_reg = 0"
      ],
      "execution_count": null,
      "outputs": []
    },
    {
      "cell_type": "code",
      "metadata": {
        "id": "diXf9Wr2BFJU"
      },
      "source": [
        "inv_out = 1-out\n",
        "inv_gt = 1-y_gt\n",
        "L_ce = tf.reduce_mean(-y_gt*tf.log(out+eps) - inv_gt*tf.log(inv_out+eps))\n",
        "L_dice = 1 - (tf.reduce_sum(2*out*y_gt) + eps)/(tf.reduce_sum(out + y_gt) + eps)\n",
        "L_inv_dice = 1 - (tf.reduce_sum(2*inv_out*inv_gt) + eps)/(tf.reduce_sum(inv_out + inv_gt) + eps)\n",
        "L_reg = tf.reduce_mean(tf.nn.relu(out[:,:,:,0]-out[:,:,:,1]))\n",
        "\n",
        "#L2 = tf.nn.l2_loss()\n",
        "\n",
        "loss = lambda_ce*L_ce + lambda_dice*L_dice + lambda_inv_dice*L_inv_dice + lambda_reg*L_reg\n",
        "\n",
        "optimizer = tf.train.AdamOptimizer()\n",
        "train_op = optimizer.minimize(loss)"
      ],
      "execution_count": null,
      "outputs": []
    },
    {
      "cell_type": "markdown",
      "metadata": {
        "id": "xRMiNmI3uzy8"
      },
      "source": [
        "Run training code"
      ]
    },
    {
      "cell_type": "code",
      "metadata": {
        "id": "IpSoTth7MQ3-"
      },
      "source": [
        "def compute_iou(out_contour_im, gt_contour_im):\n",
        "  #both inputs are binary segmentations\n",
        "  intersection = np.sum(gt_contour_im*out_contour_im)\n",
        "  union = np.sum(np.clip(gt_contour_im + out_contour_im, 0, 1))\n",
        "  return intersection/union"
      ],
      "execution_count": null,
      "outputs": []
    },
    {
      "cell_type": "code",
      "metadata": {
        "id": "mnGpvas8u2Sd",
        "outputId": "9261e23f-0c9d-45fc-edb5-a138eec891e1",
        "colab": {
          "base_uri": "https://localhost:8080/"
        }
      },
      "source": [
        "gpu_opts = tf.GPUOptions(per_process_gpu_memory_fraction=0.8)\n",
        "epochs = int(21*e_)\n",
        "loss_values = []\n",
        "train_iou_values = []\n",
        "\n",
        "test_loss_values = []\n",
        "test_iou_values = []\n",
        "\n",
        "batch_size = 1\n",
        "data_size = len(Xs_sup)\n",
        "test_size = len(Xs_test)\n",
        "\n",
        "Xs_sup_array = np.array(Xs_sup)\n",
        "ys_sup_array = np.array(ys_sup)\n",
        "\n",
        "Xs_test_array = np.array(Xs_test)\n",
        "ys_test_array = np.array(ys_test)\n",
        "\n",
        "with tf.Session(config=tf.ConfigProto(gpu_options=gpu_opts)) as sess:\n",
        "  sess.run(tf.global_variables_initializer())\n",
        "  for e in range(epochs):\n",
        "    epoch_losses = []\n",
        "    epoch_ious = []\n",
        "    rand_perm = rng.permutation(len(Xs_sup))\n",
        "    Xs_sup_array = Xs_sup_array[rand_perm]\n",
        "    ys_sup_array = ys_sup_array[rand_perm]\n",
        "    num_batches = data_size//batch_size\n",
        "    for b in range(num_batches):\n",
        "      in_batch = Xs_sup_array[b*batch_size:(b+1)*batch_size]\n",
        "      gt_batch = ys_sup_array[b*batch_size:(b+1)*batch_size]\n",
        "      #print(in_batch.shape)\n",
        "      #print(gt_batch.shape)\n",
        "      #print(in_batch.dtype)\n",
        "      #print(gt_batch.dtype)\n",
        "      feeds = {X_in: in_batch, y_gt: gt_batch, prob: 0.55}\n",
        "      out_im, loss_val, _ = sess.run([out, loss, train_op], feed_dict=feeds)\n",
        "      out_contour_im = np.copy(out_im)\n",
        "      out_contour_im[out_contour_im>=0.5] = 1\n",
        "      out_contour_im[out_contour_im<0.5] = 0\n",
        "      batch_iou = compute_iou(out_contour_im, gt_batch)\n",
        "      epoch_ious.append(batch_iou)\n",
        "      epoch_losses.append(loss_val)\n",
        "    if e%5 == 0:\n",
        "      test_epoch_losses = []\n",
        "      test_epoch_ious = []\n",
        "      for tno in range(test_size):\n",
        "        #test_in_batch = Xs_sup_array[tno:tno+1]\n",
        "        #test_gt_batch = ys_sup_array[tno:tno+1]\n",
        "\n",
        "        test_in_batch = Xs_test_array[tno:tno+1]\n",
        "        test_gt_batch = ys_test_array[tno:tno+1]\n",
        "\n",
        "        feeds = {X_in: test_in_batch, y_gt: test_gt_batch}\n",
        "        test_out_im, test_loss_val = sess.run([out, loss], feed_dict=feeds)\n",
        "        test_out_contour_im = np.copy(test_out_im)\n",
        "        test_out_contour_im[test_out_contour_im>=0.5] = 1\n",
        "        test_out_contour_im[test_out_contour_im<0.5] = 0\n",
        "        test_batch_iou = compute_iou(test_out_contour_im, test_gt_batch)\n",
        "        test_epoch_ious.append(test_batch_iou)\n",
        "        test_epoch_losses.append(test_loss_val)\n",
        "      test_epoch_mean_loss = np.mean(np.array(test_epoch_losses))\n",
        "      test_epoch_mean_iou  = np.mean(np.array(test_epoch_ious))\n",
        "      print('Test')\n",
        "      print(\"epoch loss : \" + str(test_epoch_mean_loss))\n",
        "      print(\"epoch iou : \" + str(test_epoch_mean_iou))\n",
        "      test_loss_values.append(test_epoch_mean_loss)\n",
        "      test_iou_values.append(test_epoch_mean_iou)\n",
        "\n",
        "    epoch_mean_loss = np.mean(np.array(epoch_losses))\n",
        "    epoch_mean_iou  = np.mean(np.array(epoch_ious))\n",
        "    print('epoch : ' + str(e))\n",
        "    print(\"epoch loss : \" + str(epoch_mean_loss))\n",
        "    print(\"epoch iou : \" + str(epoch_mean_iou))\n",
        "    loss_values.append(epoch_mean_loss)\n",
        "    train_iou_values.append(epoch_mean_iou)"
      ],
      "execution_count": null,
      "outputs": [
        {
          "output_type": "stream",
          "text": [
            "Test\n",
            "epoch loss : 0.8885358\n",
            "epoch iou : 0.23954959\n",
            "epoch : 0\n",
            "epoch loss : 1.0063915\n",
            "epoch iou : 0.13293464\n",
            "epoch : 1\n",
            "epoch loss : 0.9122173\n",
            "epoch iou : 0.22742525\n",
            "epoch : 2\n",
            "epoch loss : 0.8477223\n",
            "epoch iou : 0.26984885\n",
            "epoch : 3\n",
            "epoch loss : 0.7861679\n",
            "epoch iou : 0.30861866\n",
            "epoch : 4\n",
            "epoch loss : 0.7321854\n",
            "epoch iou : 0.3474547\n",
            "Test\n",
            "epoch loss : 0.78186727\n",
            "epoch iou : 0.29621458\n",
            "epoch : 5\n",
            "epoch loss : 0.6896957\n",
            "epoch iou : 0.37811688\n",
            "epoch : 6\n",
            "epoch loss : 0.6487623\n",
            "epoch iou : 0.40541396\n",
            "epoch : 7\n",
            "epoch loss : 0.6091789\n",
            "epoch iou : 0.43477315\n",
            "epoch : 8\n",
            "epoch loss : 0.5831218\n",
            "epoch iou : 0.45334643\n",
            "epoch : 9\n",
            "epoch loss : 0.55324656\n",
            "epoch iou : 0.4756923\n",
            "Test\n",
            "epoch loss : 0.66733265\n",
            "epoch iou : 0.39569858\n",
            "epoch : 10\n",
            "epoch loss : 0.52983326\n",
            "epoch iou : 0.4928526\n",
            "epoch : 11\n",
            "epoch loss : 0.5104654\n",
            "epoch iou : 0.50799614\n",
            "epoch : 12\n",
            "epoch loss : 0.49046296\n",
            "epoch iou : 0.5230094\n",
            "epoch : 13\n",
            "epoch loss : 0.47625402\n",
            "epoch iou : 0.534565\n",
            "epoch : 14\n",
            "epoch loss : 0.46916962\n",
            "epoch iou : 0.5393967\n",
            "Test\n",
            "epoch loss : 0.7088319\n",
            "epoch iou : 0.36766827\n",
            "epoch : 15\n",
            "epoch loss : 0.44910532\n",
            "epoch iou : 0.55671597\n",
            "epoch : 16\n",
            "epoch loss : 0.43727252\n",
            "epoch iou : 0.56697184\n",
            "epoch : 17\n",
            "epoch loss : 0.42579594\n",
            "epoch iou : 0.57441413\n",
            "epoch : 18\n",
            "epoch loss : 0.4184405\n",
            "epoch iou : 0.58003193\n",
            "epoch : 19\n",
            "epoch loss : 0.40776402\n",
            "epoch iou : 0.5902397\n",
            "Test\n",
            "epoch loss : 0.646454\n",
            "epoch iou : 0.418225\n",
            "epoch : 20\n",
            "epoch loss : 0.39545152\n",
            "epoch iou : 0.5988957\n"
          ],
          "name": "stdout"
        }
      ]
    },
    {
      "cell_type": "code",
      "metadata": {
        "id": "99Howcg21CpZ",
        "outputId": "e13d56fa-9ec3-409f-b094-9325d7772c9a",
        "colab": {
          "base_uri": "https://localhost:8080/",
          "height": 587
        }
      },
      "source": [
        "#from matplotlib.ticker import MaxNLocator\n",
        "#e_ = 5\n",
        "plt.figure()\n",
        "\n",
        "x_p = [x for x in range(1,21)]\n",
        "\n",
        "#plt.plot(test_epoch_ious, label=\"Test IOU\")\n",
        "plt.plot(x_p, train_iou_values[:-1], label=\"Train IOU\")\n",
        "plt.plot([1,5,10,15,20], test_iou_values, label=\"Test IOU\")\n",
        "\n",
        "plt.ylabel('Intersection over Union (IOU)')\n",
        "plt.xlabel('Epoch')\n",
        "plt.title('L2 lambda=0.05, p=0.5', y=-0.01)\n",
        "\n",
        "# Place a legend to the right of this smaller subplot.\n",
        "#plt.legend(bbox_to_anchor=(1.05, 1), loc='upper left', borderaxespad=0.)\n",
        "plt.legend(bbox_to_anchor=(0., 1.02, 1., .102), loc='lower left',\n",
        "           ncol=2, mode=\"expand\", borderaxespad=0.)\n",
        "\n",
        "\n",
        "\n",
        "plt.figure()\n",
        "\n",
        "#plt.plot(test_epoch_ious, label=\"Test IOU\")\n",
        "plt.plot([x for x in range(1,21)], loss_values[:-1], label=\"Train Loss\")\n",
        "plt.plot([1,5,10,15,20], test_loss_values, label=\"Test Loss\")\n",
        "\n",
        "plt.ylabel('Loss')\n",
        "plt.xlabel('Epoch')\n",
        "plt.title('L2 lambda=0.05, p=0.5', y=-0.01)\n",
        "\n",
        "# Place a legend to the right of this smaller subplot.\n",
        "#plt.legend(bbox_to_anchor=(1.05, 1), loc='upper left', borderaxespad=0.)\n",
        "plt.legend(bbox_to_anchor=(0., 1.02, 1., .102), loc='lower left',\n",
        "           ncol=2, mode=\"expand\", borderaxespad=0.)\n",
        "\n",
        "plt.show()"
      ],
      "execution_count": null,
      "outputs": [
        {
          "output_type": "display_data",
          "data": {
            "image/png": "[encoded data removed]",
            "text/plain": [
              "<Figure size 432x288 with 1 Axes>"
            ]
          },
          "metadata": {
            "tags": [],
            "needs_background": "light"
          }
        },
        {
          "output_type": "display_data",
          "data": {
            "image/png": "[encoded data removed]",
            "text/plain": [
              "<Figure size 432x288 with 1 Axes>"
            ]
          },
          "metadata": {
            "tags": [],
            "needs_background": "light"
          }
        }
      ]
    },
    {
      "cell_type": "code",
      "metadata": {
        "id": "xuTC3O5rzr1G",
        "outputId": "c9925a69-49b9-4c0c-a55e-3a0ee9ede65f",
        "colab": {
          "base_uri": "https://localhost:8080/",
          "height": 563
        }
      },
      "source": [
        "plt.figure()\n",
        "plt.title('out contour i')\n",
        "plt.imshow(test_out_contour_im[0,:,:,0])\n",
        "\n",
        "plt.figure()\n",
        "plt.title('gt contour i')\n",
        "plt.imshow(test_gt_batch[0,:,:,0])"
      ],
      "execution_count": null,
      "outputs": [
        {
          "output_type": "execute_result",
          "data": {
            "text/plain": [
              "<matplotlib.image.AxesImage at 0x7fe26469acf8>"
            ]
          },
          "metadata": {
            "tags": []
          },
          "execution_count": 477
        },
        {
          "output_type": "display_data",
          "data": {
            "image/png": "[encoded data removed]",
            "text/plain": [
              "<Figure size 432x288 with 1 Axes>"
            ]
          },
          "metadata": {
            "tags": [],
            "needs_background": "light"
          }
        },
        {
          "output_type": "display_data",
          "data": {
            "image/png": "[encoded data removed]",
            "text/plain": [
              "<Figure size 432x288 with 1 Axes>"
            ]
          },
          "metadata": {
            "tags": [],
            "needs_background": "light"
          }
        }
      ]
    }
  ]
}